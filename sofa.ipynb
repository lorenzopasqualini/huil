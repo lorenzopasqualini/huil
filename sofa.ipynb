{
 "cells": [
  {
   "cell_type": "code",
   "execution_count": 22,
   "metadata": {},
   "outputs": [],
   "source": [
    "import requests\n",
    "from bs4 import BeautifulSoup"
   ]
  },
  {
   "cell_type": "code",
   "execution_count": 43,
   "metadata": {},
   "outputs": [
    {
     "data": {
      "text/plain": [
       "[]"
      ]
     },
     "execution_count": 43,
     "metadata": {},
     "output_type": "execute_result"
    }
   ],
   "source": [
    "# Request sofascore.com URL then parse using bs4\n",
    "response = requests.get(\n",
    "    \"https://www.sofascore.com/west-ham-united-brighton-and-hove-albion/FsM#11352466\",\n",
    "    headers={\n",
    "        \"user-agent\": \"Mozilla/5.0 (Windows NT 10.0; Win64; x64) AppleWebKit/537.36 (KHTML, like Gecko) Chrome/116.0.0.0 Safari/537.36 Edg/116.0.1938.54\"\n",
    "    },\n",
    ")\n",
    "\n",
    "soup = BeautifulSoup(response.text, \"html.parser\")\n",
    "soup.select('g[cursor=\"pointer\"]')"
   ]
  },
  {
   "cell_type": "code",
   "execution_count": 45,
   "metadata": {},
   "outputs": [],
   "source": [
    "# Copied converted CURL w/ headers from curlconverter.com\n",
    "import requests\n",
    "\n",
    "headers = {\n",
    "    \"authority\": \"api.sofascore.com\",\n",
    "    \"accept\": \"*/*\",\n",
    "    \"accept-language\": \"es,es-ES;q=0.9,en;q=0.8,en-GB;q=0.7,en-US;q=0.6\",\n",
    "    \"cache-control\": \"max-age=0\",\n",
    "    \"dnt\": \"1\",\n",
    "    \"if-none-match\": 'W/\"a268a114d7\"',\n",
    "    \"origin\": \"https://www.sofascore.com\",\n",
    "    \"referer\": \"https://www.sofascore.com/\",\n",
    "    \"sec-ch-ua\": '\"Chromium\";v=\"116\", \"Not)A;Brand\";v=\"24\", \"Microsoft Edge\";v=\"116\"',\n",
    "    \"sec-ch-ua-mobile\": \"?1\",\n",
    "    \"sec-ch-ua-platform\": '\"Android\"',\n",
    "    \"sec-fetch-dest\": \"empty\",\n",
    "    \"sec-fetch-mode\": \"cors\",\n",
    "    \"sec-fetch-site\": \"same-site\",\n",
    "    \"user-agent\": \"Mozilla/5.0 (Linux; Android 6.0; Nexus 5 Build/MRA58N) AppleWebKit/537.36 (KHTML, like Gecko) Chrome/116.0.0.0 Mobile Safari/537.36 Edg/116.0.1938.54\",\n",
    "}\n",
    "\n",
    "response = requests.get(\n",
    "    \"https://api.sofascore.com/api/v1/event/11352466/shotmap\", headers=headers\n",
    ")"
   ]
  },
  {
   "cell_type": "code",
   "execution_count": 72,
   "metadata": {},
   "outputs": [],
   "source": [
    "# Modify header then call API directly\n",
    "headers[\"If-Modified-Since\"] = \"Sat, 26 Aug 2023 00:00:00 GMT\"\n",
    "response = requests.get(\n",
    "    \"https://api.sofascore.com/api/v1/event/11352466/shotmap\", headers=headers\n",
    ")"
   ]
  },
  {
   "cell_type": "code",
   "execution_count": 77,
   "metadata": {},
   "outputs": [],
   "source": [
    "shots = response.json()"
   ]
  },
  {
   "cell_type": "code",
   "execution_count": 79,
   "metadata": {},
   "outputs": [
    {
     "data": {
      "image/png": "[encoded data removed]",
      "text/plain": [
       "<Figure size 432x288 with 1 Axes>"
      ]
     },
     "metadata": {},
     "output_type": "display_data"
    }
   ],
   "source": [
    "from mplsoccer import Pitch, VerticalPitch\n",
    "import matplotlib.pyplot as plt\n",
    "\n",
    "pitch = Pitch(pitch_type=\"opta\", figsize=(10, 7), line_zorder=2)\n",
    "fig, ax = pitch.draw()\n",
    "\n",
    "for entry in shots[\"shotmap\"]:\n",
    "    xcor = entry[\"playerCoordinates\"][\"x\"]\n",
    "    ycor = entry[\"playerCoordinates\"][\"y\"]\n",
    "    pitch.scatter(xcor, ycor, ax=ax, color=\"blue\")\n",
    "\n",
    "plt.show()"
   ]
  }
 ],
 "metadata": {
  "kernelspec": {
   "display_name": "Python 3",
   "language": "python",
   "name": "python3"
  },
  "language_info": {
   "codemirror_mode": {
    "name": "ipython",
    "version": 3
   },
   "file_extension": ".py",
   "mimetype": "text/x-python",
   "name": "python",
   "nbconvert_exporter": "python",
   "pygments_lexer": "ipython3",
   "version": "3.9.6"
  },
  "orig_nbformat": 4
 },
 "nbformat": 4,
 "nbformat_minor": 2
}
